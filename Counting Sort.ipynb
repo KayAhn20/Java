{
 "cells": [
  {
   "cell_type": "markdown",
   "metadata": {},
   "source": [
    "# 카운팅 정렬"
   ]
  },
  {
   "cell_type": "markdown",
   "metadata": {},
   "source": [
    "    원소간 비교없이 정렬할 수 있는 카운팅 정렬에 대해 알아본다."
   ]
  },
  {
   "cell_type": "markdown",
   "metadata": {},
   "source": [
    "## 카운팅 정렬의 특징 :"
   ]
  },
  {
   "cell_type": "markdown",
   "metadata": {},
   "source": [
    "    * 원소간 비교하지 않고 각 원소가 몇개 등장하는지 갯수를 세서 정렬하는 방법이다.\n",
    "    * 모든 원소는 양의 정수여야 한다.\n",
    "    * 시간복잡도는 O(n+k)로 Quick sort, Merge sort에 비해 빠르다.\n",
    "    * 정렬을 위한 길이 n의 배열 하나, 계수를 위한 길이 k의 배열하나로 O(n+k)의 공간복잡도를 가진다."
   ]
  },
  {
   "cell_type": "markdown",
   "metadata": {},
   "source": [
    "import java.io.BufferedReader;\n",
    "import java.io.BufferedWriter;\n",
    "import java.io.IOException;\n",
    "import java.io.InputStreamReader;\n",
    "import java.io.OutputStreamWriter;\n",
    "\n",
    "\n",
    "public class Main {\n",
    "\t\n",
    "\tpublic static void main(String[] args) throws NumberFormatException, IOException {\n",
    "\t\tBufferedReader br = new BufferedReader(new InputStreamReader(System.in));\n",
    "\t\tBufferedWriter bw = new BufferedWriter(new OutputStreamWriter(System.out));\n",
    "\t\tint x = Integer.parseInt(br.readLine());\n",
    "\t\tint[] arr = new int[x];\n",
    "\t\tint[] result = new int[x];\n",
    "\t\tint max = -1000000;\n",
    "\t\tint min = 1000000;\n",
    "\t\tif(x>=1 && x<=1000000){\n",
    "\t\t\tfor(int i = 0; i<x; i++) {\n",
    "\t\t\t\tarr[i] = Integer.parseInt(br.readLine());\n",
    "\t\t\t\tif(arr[i]>=max) {\n",
    "\t\t\t\t\tmax = arr[i];\n",
    "\t\t\t\t}\n",
    "\t\t\t}\n",
    "\t\t}\n",
    "\t\tint[] cntarr = new int[max+1];\n",
    "\t\t\n",
    "\t\tfor(int i = 0; i<arr.length; i++) {\n",
    "\t\t\tcntarr[arr[i]]++;\t\t\t\t// 빈도를 계산해주는 for loop \n",
    "\t\t}\n",
    "\t\tfor(int i=1; i<cntarr.length; i++) {\n",
    "\t\t\tcntarr[i] +=cntarr[i-1];\t\t//누적합을 계산해주는 for loop \n",
    "\t\t}\n",
    "\t\tfor(int k = arr.length-1; k>=0; k--) {\n",
    "\t\t\tcntarr[arr[k]]--;\n",
    "\t\t\tresult[cntarr[arr[k]]]=arr[k];\n",
    "\t\t}\n",
    "\t\tfor(int i=0; i<result.length; i++) {\n",
    "\t\t\tbw.append(result[i]+\"\\n\");\n",
    "\t\t}\n",
    "\t\tbw.flush();\n",
    "\t\tbr.close();\n",
    "\t\tbw.close();\n",
    "\t}\n",
    "}"
   ]
  }
 ],
 "metadata": {
  "kernelspec": {
   "display_name": "Python 3",
   "language": "python",
   "name": "python3"
  },
  "language_info": {
   "codemirror_mode": {
    "name": "ipython",
    "version": 3
   },
   "file_extension": ".py",
   "mimetype": "text/x-python",
   "name": "python",
   "nbconvert_exporter": "python",
   "pygments_lexer": "ipython3",
   "version": "3.7.6"
  }
 },
 "nbformat": 4,
 "nbformat_minor": 4
}
