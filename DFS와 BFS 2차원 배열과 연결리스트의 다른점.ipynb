{
 "cells": [
  {
   "cell_type": "markdown",
   "metadata": {},
   "source": [
    "# DFS와 BFS 2차원 배열과 연결리스트의 다른점\n",
    "\n",
    "## 2차원 배열\n",
    "\n",
    "### 메모리를 많이 쓴다, 속도로 빠르다. (대용량일때는 이것)\n",
    "\n",
    "## 연결리스트(Linked List)\n",
    "\n",
    "### 메모리는 적게 쓰지만 속도로 느리다. (소용량일때는 이것)"
   ]
  },
  {
   "cell_type": "code",
   "execution_count": null,
   "metadata": {},
   "outputs": [],
   "source": []
  }
 ],
 "metadata": {
  "kernelspec": {
   "display_name": "Python 3",
   "language": "python",
   "name": "python3"
  },
  "language_info": {
   "codemirror_mode": {
    "name": "ipython",
    "version": 3
   },
   "file_extension": ".py",
   "mimetype": "text/x-python",
   "name": "python",
   "nbconvert_exporter": "python",
   "pygments_lexer": "ipython3",
   "version": "3.7.6"
  }
 },
 "nbformat": 4,
 "nbformat_minor": 4
}
